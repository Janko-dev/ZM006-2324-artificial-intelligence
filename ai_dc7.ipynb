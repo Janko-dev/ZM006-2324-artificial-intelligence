{
 "cells": [
  {
   "cell_type": "markdown",
   "metadata": {},
   "source": [
    "# Deep $Q$-learning\n",
    "\n",
    "### Recap tabulair $Q$-learning:\n",
    "- **Kwaliteitsfunctie** geparameteriseerd door $Q(s, a)$\n",
    "- Hoe goed is het om in state $s$ actie $a$ uit te voeren? \n",
    "- M.a.w. wat is de **maximale verwachte toekomstige reward** van een actie, gegeven een state?\n",
    "$$\n",
    "  \\approx \\max E[r_{t+1} + \\gamma r_{t+2} + \\gamma^2 r_{t+3} + \\dots]\n",
    "$$\n",
    "- Wanneer aantal states en actions klein is, kunnen we een tabel gebruiken als $Q$ functie\n",
    "- Gegeven een $(s, a, s')$-triplet, waarbij:\n",
    "  - $s$ is de huidige state\n",
    "  - $a$ is de actie die we uitvoeren in $s$\n",
    "  - $s'$ is de nieuwe state waar we in belanden na uitvoeren $a$ in $s$\n",
    "- De update rule bij $Q$-learning is dan:\n",
    "\\begin{align*}\n",
    "    Q(s, a) &\\leftarrow Q(s, a) + \\alpha [\\gamma \\max_{a'} Q(s', a') + R(s, a, s') - Q(s, a)]\\\\\n",
    "    Q(s, a) &\\leftarrow \\underbrace{(1-\\alpha)Q(s, a)}_{\\text{aandeel oud}} + \\underbrace{\\alpha (R(s, a, s') + \\gamma \\max_{a'} Q(s', a'))}_{\\text{aandeel nieuw}}\n",
    "\\end{align*}\n",
    "- Met de **discount factor** $\\gamma$ en de **learning rate** $\\alpha$ als hyperparameters\n",
    "- $R(s, a, s')$ is de reward functie waarvan de waardes aangeleverd worden vanuit de **omgeving**"
   ]
  },
  {
   "cell_type": "code",
   "execution_count": 1,
   "metadata": {},
   "outputs": [
    {
     "data": {
      "text/plain": [
       "{'A': {'east': 0, 'west': 0, 'south': 0, 'north': 0, 'exit': 5.0},\n",
       " 'B': {'east': -0.75, 'west': 0, 'south': 0, 'north': 0, 'exit': 0},\n",
       " 'C': {'east': 1.5625, 'west': 0, 'south': 0, 'north': 0, 'exit': 0},\n",
       " 'D': {'east': 0, 'west': 0, 'south': 0, 'north': 0, 'exit': 8.75},\n",
       " 'E': {'east': 0, 'west': 0, 'south': 0, 'north': 1.75, 'exit': 0},\n",
       " 'x': {'east': 0, 'west': 0, 'south': 0, 'north': 0, 'exit': 0}}"
      ]
     },
     "execution_count": 1,
     "metadata": {},
     "output_type": "execute_result"
    }
   ],
   "source": [
    "dataset = [\n",
    "    # episode 1\n",
    "    ['B', 'east', 'C', -1],\n",
    "    ['C', 'east', 'D', -1],\n",
    "    ['D', 'exit', 'x', 10],\n",
    "    # episode 2\n",
    "    ['B', 'east', 'C', -1],\n",
    "    ['C', 'east', 'D', -1],\n",
    "    ['D', 'exit', 'x', 10],\n",
    "    # episode 3\n",
    "    ['E', 'north','C', -1],\n",
    "    ['C', 'east', 'D', -1],\n",
    "    ['D', 'exit', 'x', 10],\n",
    "    # episode 4\n",
    "    ['E', 'north','C', -1],\n",
    "    ['C', 'east', 'A', -1],\n",
    "    ['A', 'exit', 'x', 10],\n",
    "]\n",
    "\n",
    "states = ['A', 'B', 'C', 'D', 'E', 'x']\n",
    "actions = ['east', 'west', 'south', 'north', 'exit']\n",
    "\n",
    "Q = {s : {a : 0 for a in actions} for s in states}\n",
    "alpha = 0.5\n",
    "gamma = 1\n",
    "\n",
    "for s, a, sn, r in dataset:\n",
    "    max_Q_sn = max(Q[sn].values())\n",
    "    Q[s][a] = (1-alpha) * Q[s][a] + alpha * (r + gamma * max_Q_sn)\n",
    "\n",
    "Q"
   ]
  },
  {
   "cell_type": "code",
   "execution_count": 2,
   "metadata": {},
   "outputs": [
    {
     "data": {
      "text/plain": [
       "('east', 1.5625)"
      ]
     },
     "execution_count": 2,
     "metadata": {},
     "output_type": "execute_result"
    }
   ],
   "source": [
    "# gegeven dat we in state 'C' zitten, neem actie met de maximale waarde  \n",
    "max(Q['C'].items(), key=lambda x: x[1])"
   ]
  },
  {
   "cell_type": "markdown",
   "metadata": {},
   "source": [
    "### Beperking tabular $Q$-learning\n",
    "\n",
    "- Als de state-action space groeit, dan krijgen we memory issues\n",
    "$$\n",
    "Q(s, a) = \\begin{bmatrix}\n",
    "    (s_1, a_1) & (s_1, a_2) & \\dots & (s_1, a_N) \\\\\n",
    "    (s_2, a_1) & (s_2, a_2) & \\dots & (s_2, a_N) \\\\\n",
    "    \\vdots & \\vdots & \\ddots & \\vdots \\\\\n",
    "    (s_M, a_1) & (s_M, a_2) & \\dots & (s_M, a_N)\n",
    "\\end{bmatrix}\n",
    "$$\n",
    "- Zowel $M$ als $N$ kunnen heel groot worden.\n",
    "\n",
    "\n",
    "Oplossing: Neuraal netwerk gebruiken\n",
    "- NN met 1 hidden layer is een *Universal Function Approximator* \n",
    "- **Disclaimer**: in praktijk heb je te maken met overfitting en een stijgende generalisatie error\n",
    "- Hierdoor zijn diepere netwerken betrouwbaarder vanwege hun hogere capaciteit. \n",
    "\n",
    "\n",
    "Wat zijn **inputs** en **outputs** van een Deep $Q$-Network?\n",
    "\n",
    "$$\n",
    "    \\dots \\rightarrow \\boxed{DQN} \\rightarrow \\dots\n",
    "$$"
   ]
  },
  {
   "cell_type": "markdown",
   "metadata": {},
   "source": [
    "<!-- $$\n",
    "    Q(s): \\begin{bmatrix} \\vert \\\\ s \\\\ \\vert \\end{bmatrix} \\rightarrow \\boxed{DQN} \\rightarrow \\begin{bmatrix} a_1 \\\\ a_2 \\\\ \\vdots \\\\ a_N \\end{bmatrix}\n",
    "$$ -->"
   ]
  },
  {
   "cell_type": "markdown",
   "metadata": {},
   "source": [
    "## Voorbeeld implementatie replay learning/offline learning\n",
    "\n",
    "Voor een voorbeeld omgeving gebruiken we OpenAI's Gym library. \n",
    "- Omgeving: https://www.gymlibrary.dev/environments/classic_control/cart_pole/\n",
    "- `observation_space` is hetzelfde als state space"
   ]
  },
  {
   "cell_type": "code",
   "execution_count": 41,
   "metadata": {},
   "outputs": [],
   "source": [
    "import matplotlib.pyplot as plt\n",
    "import numpy as np\n",
    "\n",
    "# torch imports \n",
    "import torch\n",
    "from torch import nn\n",
    "from torch.nn import functional as F\n",
    "from torch.utils.data import Dataset, DataLoader\n",
    "\n",
    "# For storing moves \n",
    "from collections import deque            \n",
    "import random\n",
    "\n",
    "# OpenAI gym\n",
    "import gym                                \n",
    "# Choose game (any in the gym should work)\n",
    "env = gym.make('CartPole-v1') # ('MountainCar-v0')"
   ]
  },
  {
   "attachments": {
    "image-2.png": {
     "image/png": "[encoded data removed]"
    }
   },
   "cell_type": "markdown",
   "metadata": {},
   "source": [
    "![image-2.png](attachment:image-2.png)"
   ]
  },
  {
   "cell_type": "code",
   "execution_count": 62,
   "metadata": {},
   "outputs": [
    {
     "data": {
      "text/plain": [
       "array([ 0.04630077, -0.04096813, -0.03863878, -0.04826171])"
      ]
     },
     "execution_count": 62,
     "metadata": {},
     "output_type": "execute_result"
    }
   ],
   "source": [
    "env.reset()"
   ]
  },
  {
   "cell_type": "code",
   "execution_count": 61,
   "metadata": {},
   "outputs": [
    {
     "name": "stdout",
     "output_type": "stream",
     "text": [
      "x-pos: -0.2762, velocity: -2.3511\n",
      "pole angle: 0.3645, pole velocity: 3.7454\n",
      "reward: 0.0\n",
      "info: {}\n",
      "episode terminated? yes\n"
     ]
    }
   ],
   "source": [
    "action = 0\n",
    "obs_new, reward, done, info = env.step(action)\n",
    "print(f\"x-pos: {obs_new[0]:.4f}, velocity: {obs_new[1]:.4f}\")\n",
    "print(f\"pole angle: {obs_new[2]:.4f}, pole velocity: {obs_new[3]:.4f}\")\n",
    "print(f\"reward: {reward}\")\n",
    "print(f\"info: {info}\")\n",
    "print(f\"episode terminated? {'yes' if done else 'no'}\")"
   ]
  },
  {
   "cell_type": "markdown",
   "metadata": {},
   "source": [
    "### Custom torch module "
   ]
  },
  {
   "cell_type": "code",
   "execution_count": 286,
   "metadata": {},
   "outputs": [],
   "source": [
    "class LinearDQN(nn.Module):\n",
    "    def __init__(self, n_inputs, n_hidden, n_out):\n",
    "        super().__init__()\n",
    "        self.linear1 = nn.Linear(n_inputs, n_hidden)\n",
    "        self.linear2 = nn.Linear(n_hidden, n_hidden)\n",
    "        self.linear3 = nn.Linear(n_hidden, n_out)\n",
    "    \n",
    "    def forward(self, X: torch.Tensor):\n",
    "        X = F.relu(self.linear1(X))\n",
    "        X = F.relu(self.linear2(X))\n",
    "        return self.linear3(X)"
   ]
  },
  {
   "cell_type": "markdown",
   "metadata": {},
   "source": [
    "### Loss + optimizer"
   ]
  },
  {
   "cell_type": "code",
   "execution_count": 362,
   "metadata": {},
   "outputs": [],
   "source": [
    "D = []\n",
    "train_loss_history = []\n",
    "mean_loss_history = []\n",
    "\n",
    "n_states = env.observation_space.shape[0]\n",
    "n_actions = env.action_space.n\n",
    "\n",
    "device = 'cuda' if torch.cuda.is_available() else 'cpu'\n",
    "model = LinearDQN(n_states*2, 100, n_actions).to(device)\n",
    "\n",
    "# criterion = nn.MSELoss()\n",
    "criterion = nn.SmoothL1Loss()\n",
    "optimizer = torch.optim.AdamW(model.parameters(), lr=0.0001)"
   ]
  },
  {
   "cell_type": "markdown",
   "metadata": {},
   "source": [
    "### Trainings constanten "
   ]
  },
  {
   "cell_type": "code",
   "execution_count": 363,
   "metadata": {},
   "outputs": [],
   "source": [
    "n_episodes = 1000    # hoeveel episodes\n",
    "epsilon = 0.6        # epsilon-greedy search\n",
    "gamma = 0.99         # discount factor\n",
    "batch_size = 128     # hoeveel datapunten per optimalisatiestap"
   ]
  },
  {
   "cell_type": "markdown",
   "metadata": {},
   "source": [
    "### Stap 1: observeren van omgeving"
   ]
  },
  {
   "cell_type": "code",
   "execution_count": 405,
   "metadata": {},
   "outputs": [],
   "source": [
    "for ep in range(n_episodes):\n",
    "\n",
    "    state = env.reset()\n",
    "    state = np.append(state, state, axis=0)\n",
    "    done = False\n",
    "\n",
    "    while not done:\n",
    "        # epsilon-greedy search\n",
    "        if np.random.rand() < epsilon:\n",
    "            action = env.action_space.sample() # random action\n",
    "        else:\n",
    "            # in eerste instantie niet getraind\n",
    "            Q_pred = model(torch.tensor(state, device=device).float()) \n",
    "            action = torch.argmax(Q_pred).item()\n",
    "\n",
    "        # doe actie en observeer\n",
    "        state_new, reward, done, info = env.step(action)\n",
    "\n",
    "        # iedere observatie bestaat uit 2 achtereenvolgende states\n",
    "        state_new = np.append(state[n_states:], state_new, axis=0)\n",
    "\n",
    "        # sla observatie op\n",
    "        D.append([*state, *state_new, action, reward, done])\n",
    "\n",
    "        state = state_new # update state"
   ]
  },
  {
   "cell_type": "markdown",
   "metadata": {},
   "source": [
    "### Stap 2: leren van observaties (experience replay)"
   ]
  },
  {
   "cell_type": "code",
   "execution_count": 406,
   "metadata": {},
   "outputs": [
    {
     "data": {
      "text/plain": [
       "104093"
      ]
     },
     "execution_count": 406,
     "metadata": {},
     "output_type": "execute_result"
    }
   ],
   "source": [
    "class ObservationDataset(Dataset):\n",
    "    def __init__(self, data):\n",
    "        self.data = torch.tensor(data, dtype=torch.float32)\n",
    "    \n",
    "    def __len__(self):\n",
    "        return len(self.data)\n",
    "    \n",
    "    def __getitem__(self, index):\n",
    "        sample = (\n",
    "            self.data[index, :2*n_states],            # state pair\n",
    "            self.data[index, 2*n_states:4*n_states],  # new state pair\n",
    "            self.data[index, 4*n_states:]             # action, reward, done\n",
    "        )\n",
    "        return sample\n",
    "\n",
    "dataset = ObservationDataset(D)\n",
    "len(dataset)"
   ]
  },
  {
   "cell_type": "code",
   "execution_count": 410,
   "metadata": {},
   "outputs": [
    {
     "data": {
      "text/plain": [
       "<matplotlib.legend.Legend at 0x257159f40d0>"
      ]
     },
     "execution_count": 410,
     "metadata": {},
     "output_type": "execute_result"
    },
    {
     "data": {
      "image/png": "[encoded data removed]",
      "text/plain": [
       "<Figure size 640x480 with 1 Axes>"
      ]
     },
     "metadata": {},
     "output_type": "display_data"
    }
   ],
   "source": [
    "observations_dl = DataLoader(dataset, batch_size=batch_size, shuffle=True)\n",
    "\n",
    "for batch_states, batch_states_new, actions_rewards_done in observations_dl:\n",
    "    # move batch to device\n",
    "    batch_states, batch_states_new = batch_states.to(device), batch_states_new.to(device)\n",
    "\n",
    "    actions = actions_rewards_done[:, 0].to(device)\n",
    "    rewards = actions_rewards_done[:, 1].to(device)\n",
    "    done    = actions_rewards_done[:, 2].to(device)\n",
    "\n",
    "    # predict\n",
    "    Q_preds = model(batch_states)\n",
    "    \n",
    "    # compute targets\n",
    "    Q_targets = torch.clone(Q_preds)\n",
    "    Q_new = model(batch_states_new)\n",
    "    max_Q_sa_preds, _ = torch.max(Q_new, dim=1)\n",
    "    idx_to_update = F.one_hot(actions.long(), num_classes=n_actions).bool()\n",
    "    Q_targets[idx_to_update] = torch.where(done.bool() == True, rewards, rewards + gamma * max_Q_sa_preds)\n",
    "    \n",
    "    # loss\n",
    "    loss = criterion(Q_targets, Q_preds)\n",
    "    train_loss_history.append(loss.item())\n",
    "    mean_loss_history.append(np.mean(train_loss_history))\n",
    "\n",
    "    # optimize\n",
    "    optimizer.zero_grad()\n",
    "    loss.backward()\n",
    "    optimizer.step()\n",
    "\n",
    "plt.plot(train_loss_history, label=\"training loss\")\n",
    "plt.plot(mean_loss_history, label=\"mean training loss\")\n",
    "plt.legend()"
   ]
  },
  {
   "cell_type": "code",
   "execution_count": 417,
   "metadata": {},
   "outputs": [
    {
     "data": {
      "text/plain": [
       "0.19705993870727753"
      ]
     },
     "execution_count": 417,
     "metadata": {},
     "output_type": "execute_result"
    }
   ],
   "source": [
    "mean_loss_history[-1]"
   ]
  },
  {
   "cell_type": "markdown",
   "metadata": {},
   "source": [
    "### Stap 3: testen van model"
   ]
  },
  {
   "cell_type": "code",
   "execution_count": 433,
   "metadata": {},
   "outputs": [
    {
     "data": {
      "image/png": "[encoded data removed]",
      "text/plain": [
       "<Figure size 640x480 with 1 Axes>"
      ]
     },
     "metadata": {},
     "output_type": "display_data"
    }
   ],
   "source": [
    "n_test_episodes = 100\n",
    "total_rewards = []\n",
    "\n",
    "for _ in range(n_test_episodes):\n",
    "    done = False\n",
    "    total_reward = 0\n",
    "\n",
    "    state = env.reset()\n",
    "    state = np.append(state, state, axis=0)\n",
    "\n",
    "    while not done:\n",
    "        # env.render()\n",
    "        \n",
    "        Q = model(torch.tensor(state, device=device).float())\n",
    "        action = torch.argmax(Q).item()\n",
    "        state_new, reward, done, info = env.step(action)\n",
    "\n",
    "        state = np.append(state[n_states:], state_new, axis=0)\n",
    "\n",
    "        total_reward += reward\n",
    "\n",
    "    total_rewards.append(total_reward)\n",
    "\n",
    "plt.hist(total_rewards, bins=20)\n",
    "plt.show()"
   ]
  },
  {
   "cell_type": "code",
   "execution_count": 430,
   "metadata": {},
   "outputs": [
    {
     "data": {
      "text/plain": [
       "197.0"
      ]
     },
     "execution_count": 430,
     "metadata": {},
     "output_type": "execute_result"
    }
   ],
   "source": [
    "done = False\n",
    "total_reward = 0\n",
    "\n",
    "state = env.reset()\n",
    "state = np.append(state, state, axis=0)\n",
    "\n",
    "while not done:\n",
    "    env.render()\n",
    "    \n",
    "    Q = model(torch.tensor(state, device=device).float())\n",
    "    action = torch.argmax(Q).item()\n",
    "    state_new, reward, done, info = env.step(action)\n",
    "\n",
    "    state = np.append(state[n_states:], state_new, axis=0)\n",
    "\n",
    "    total_reward += reward\n",
    "\n",
    "total_reward"
   ]
  },
  {
   "cell_type": "markdown",
   "metadata": {},
   "source": [
    "## Opdracht: Deep $Q$-learning Snake\n",
    "\n",
    "Bekijk de code voor DQN snake. Er zijn 3 files `agent.py`, `game.py`, `model.py`\n",
    "- Vind en beschrijf de **states** en **actions** in de DQN snake code.\n",
    "\n",
    "Beschouw het volgende stuk code, waarin de oneindige cyclus van leven en leren wordt getoond:\n",
    "```python\n",
    "while True:\n",
    "    # get old state\n",
    "    state_old = agent.get_state(game)\n",
    "\n",
    "    # get move\n",
    "    final_move = agent.get_action(state_old)\n",
    "\n",
    "    # perform move and get new state\n",
    "    reward, done, score = game.play_step(final_move)\n",
    "    state_new = agent.get_state(game)\n",
    "\n",
    "    # train short memory\n",
    "    agent.train_short_memory(state_old, final_move, reward, state_new, done)\n",
    "\n",
    "    # remember\n",
    "    agent.remember(state_old, final_move, reward, state_new, done)\n",
    "``` \n",
    "- Beschrijf (via draw.io bijv.) een sequentie diagram voor één iteratie in de while-loop."
   ]
  }
 ],
 "metadata": {
  "kernelspec": {
   "display_name": "workspace_jan",
   "language": "python",
   "name": "python3"
  },
  "language_info": {
   "codemirror_mode": {
    "name": "ipython",
    "version": 3
   },
   "file_extension": ".py",
   "mimetype": "text/x-python",
   "name": "python",
   "nbconvert_exporter": "python",
   "pygments_lexer": "ipython3",
   "version": "3.11.7"
  }
 },
 "nbformat": 4,
 "nbformat_minor": 2
}
