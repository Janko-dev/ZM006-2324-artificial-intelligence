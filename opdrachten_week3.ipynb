{
 "cells": [
  {
   "cell_type": "markdown",
   "metadata": {},
   "source": [
    "## Opdrachten DC week 3\n",
    "\n",
    "In deze opdracht voeg je stukjes code toe om het Hill climbing algoritme werkend te krijgen in de context van het [Travelling Salesman Problem (TSP)](https://en.wikipedia.org/wiki/Travelling_salesman_problem)\n",
    "\n",
    "TSP is een combinatorisch optimalisatieprobleem, waarbij we, gegeven een lijst van steden en afstanden tussen de steden, het kortste pad willen waarbij we alle steden hebben bezocht. \n",
    "\n",
    "In deze formulering gebruiken we een adjacency matrix $A$ om de nodes te representeren waarbij ieder element $A_{ij}$ de afstand van stad $i$ naar stad $j$ voorstelt. In de onderstaande formulering representeren we een stad als een integer en een mogelijke oplossing als een lijst van ints, bijv.\n",
    "`solution = [1, 3, 2, 4]`\n",
    "\n",
    "Vul de volgende functies aan om Hill climbing te implementeren."
   ]
  },
  {
   "cell_type": "code",
   "execution_count": null,
   "metadata": {},
   "outputs": [],
   "source": [
    "import random\n",
    "\n",
    "def random_solution(tsp):\n",
    "    cities = list(range(len(tsp)))\n",
    "    solution = []\n",
    "\n",
    "    for _ in range(len(tsp)):\n",
    "        random_city = cities[random.randint(0, len(cities) - 1)]\n",
    "        solution.append(random_city)\n",
    "        cities.remove(random_city)\n",
    "\n",
    "    return solution\n",
    "\n",
    "def route_length(tsp, solution):\n",
    "    route_length = 0\n",
    "    for i in range(len(solution)):\n",
    "        route_length += tsp[solution[i - 1]][solution[i]]\n",
    "    return route_length\n",
    "\n",
    "def get_neighbours(solution: list[int]):\n",
    "    neighbours = []\n",
    "    \n",
    "    ### hier code om de buren te berekenen aan de hand van\n",
    "    ### een mogelijke solution. return een lijst van buren  \n",
    "\n",
    "    return neighbours\n",
    "\n",
    "def get_best_neighbour(tsp: list[list[int]], neighbours: list[list[int]]):\n",
    "    # initieel is de beste afstand oneindig groot (heel slecht dus)\n",
    "    best_route_length = float('inf')\n",
    "    # de beste buur bestaat nog niet\n",
    "    best_neighbour = None\n",
    "    \n",
    "    ### hier code om de beste buur te berekenen aan de hand van \n",
    "    ### de mogelijke buren van een solution\n",
    "\n",
    "    return best_neighbour, best_route_length\n",
    "\n",
    "def hill_climbing(tsp, debug=False):\n",
    "\n",
    "    # als hint, bekijk de functie voorschriften en hoe de functies gebruikt zouden moeten worden.\n",
    "    \n",
    "    current_solution = random_solution(tsp)\n",
    "    current_route_length = route_length(tsp, current_solution)\n",
    "    neighbours = get_neighbours(current_solution)\n",
    "    best_neighbour, best_neighbour_route_length = get_best_neighbour(tsp, neighbours)\n",
    "        \n",
    "    while best_neighbour_route_length < current_route_length:\n",
    "        if debug: print(f'{current_route_length=}\\t{best_neighbour_route_length=}\\t{best_neighbour=}')\n",
    "    \n",
    "        current_solution = best_neighbour\n",
    "        current_route_length = best_neighbour_route_length\n",
    "\n",
    "        neighbours = get_neighbours(current_solution)\n",
    "        best_neighbour, best_neighbour_route_length = get_best_neighbour(tsp, neighbours)\n",
    "\n",
    "    return current_solution, current_route_length\n",
    "\n",
    "def problem_generator(n_cities):\n",
    "    tsp = []\n",
    "    for i in range(n_cities):\n",
    "        distances = []\n",
    "        for j in range(n_cities):\n",
    "            if j == i:\n",
    "                distances.append(0)\n",
    "            elif j < i:\n",
    "                distances.append(tsp[j][i])\n",
    "            else:\n",
    "                distances.append(random.randint(10, 1000))\n",
    "        tsp.append(distances)\n",
    "    return tsp"
   ]
  },
  {
   "cell_type": "markdown",
   "metadata": {},
   "source": [
    "Test je uitwerking"
   ]
  },
  {
   "cell_type": "code",
   "execution_count": null,
   "metadata": {},
   "outputs": [],
   "source": [
    "tsp = [\n",
    "    [0,   100,  10, 1000, 100],\n",
    "    [100,   0, 100,   10,  10],\n",
    "    [10,  100,   0,  100,  10],\n",
    "    [1000, 10, 100,    0, 100],\n",
    "    [100,  10,  10,  100,   0]\n",
    "]\n",
    "\n",
    "hill_climbing(tsp, True)"
   ]
  },
  {
   "cell_type": "markdown",
   "metadata": {},
   "source": [
    "Mogelijke output:\n",
    "```\n",
    "current_route_length=1220\tbest_neighbour_route_length=320\tbest_neighbour=[1, 3, 4, 0, 2]\n",
    "current_route_length=320\tbest_neighbour_route_length=230\tbest_neighbour=[3, 1, 4, 0, 2]\n",
    "\n",
    "solution, best_route_length: ([3, 1, 4, 0, 2], 230)\n",
    "```"
   ]
  },
  {
   "cell_type": "markdown",
   "metadata": {},
   "source": [
    "Denk eens na hoe je dit probleem met een genetisch algoritme zou kunnen oplossen.\n",
    "- hoe representeer je de populatie?\n",
    "- hoe ga je de agents evalueren?\n",
    "- hoe selecteer je de parents?\n",
    "- hoe reproduceer je een volgende generatie?\n",
    "- hoe zou mutatie een rol spelen?"
   ]
  }
 ],
 "metadata": {
  "language_info": {
   "name": "python"
  }
 },
 "nbformat": 4,
 "nbformat_minor": 2
}
